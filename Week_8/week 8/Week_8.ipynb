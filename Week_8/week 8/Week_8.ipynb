{
 "cells": [
  {
   "cell_type": "markdown",
   "id": "a99038d4",
   "metadata": {},
   "source": [
    "# Learning outcomes\n",
    "- Method to quantize / measure the image segmentation model: Intersection over Union (IOU)\n",
    "- Image gradients associate closelt with edges. Edge detections\n",
    "    * sobel\n",
    "    * scharr\n",
    "    * laplician\n",
    "    * canny\n",
    "- Contour detection ('cv.findContour()')\n",
    "- Contour features (bounding box, perimeter, area, centroid) as well as properties (aspect ratio, ciscularity, solidity and extent)\n",
    "- Bulid-in method for blob detection\n",
    "    - blob is a connected components in an image with similar brightness of intensity value"
   ]
  },
  {
   "cell_type": "code",
   "execution_count": 1,
   "id": "0e5dc7c9",
   "metadata": {
    "scrolled": true
   },
   "outputs": [],
   "source": [
    "import sys\n",
    "assert sys.version_info >= (3, 7)\n",
    "import numpy as np\n",
    "import cv2 as cv\n",
    "import matplotlib.pyplot as plt\n",
    "from util_func import *"
   ]
  },
  {
   "cell_type": "markdown",
   "id": "f4fad1df",
   "metadata": {},
   "source": [
    "# IOU"
   ]
  },
  {
   "cell_type": "code",
   "execution_count": 2,
   "id": "b2f2cd0c",
   "metadata": {},
   "outputs": [],
   "source": [
    "def computeIOU(boxA, boxB):\n",
    "    \"\"\"Args:\n",
    "    boxA: ground truth\n",
    "    boxB: prediction  They are list of points\"\"\"\n",
    "    x_start = max(boxA[0], boxB[0])\n",
    "    y_start = max(boxA[1], boxB[1])\n",
    "    x_end = min(boxA[2], boxB[2])\n",
    "    y_end = min(boxA[3], boxB[3])\n",
    "    \n",
    "    # compute intersection area\n",
    "    interArea = max(0, x_end - x_start + 1) * max(0, y_end - y_start + 1)\n",
    "    \n",
    "    #area of box A and box B\n",
    "    areaA = (boxA[2] - boxA[0] + 1) * (boxA[3] - boxA[1] + 1)\n",
    "    areaB = (boxB[2] - boxB[0] + 1) * (boxB[3] - boxB[1] + 1)\n",
    "    \n",
    "    return interArea / (areaA + areaB - interArea)"
   ]
  },
  {
   "cell_type": "code",
   "execution_count": 22,
   "id": "0e886486",
   "metadata": {},
   "outputs": [],
   "source": [
    "img = cv.imread(\"images/lena.jfif\")"
   ]
  },
  {
   "cell_type": "code",
   "execution_count": 23,
   "id": "57c2d5e8",
   "metadata": {},
   "outputs": [],
   "source": [
    "boxes = cv.selectROIs(\"bounding box\", img, showCrosshair = False)\n",
    "\n",
    "cv.waitKey(0)\n",
    "cv.destroyAllWindows()"
   ]
  },
  {
   "cell_type": "code",
   "execution_count": 24,
   "id": "e52c0a94",
   "metadata": {},
   "outputs": [
    {
     "data": {
      "text/plain": [
       "()"
      ]
     },
     "execution_count": 24,
     "metadata": {},
     "output_type": "execute_result"
    }
   ],
   "source": [
    "boxes"
   ]
  },
  {
   "cell_type": "code",
   "execution_count": 25,
   "id": "9dfc48b5",
   "metadata": {},
   "outputs": [],
   "source": [
    "def convert_xywh_to_xyxy(box):\n",
    "    return [box[0], box[1], box[0] + box[2], box[1] + box[3]]"
   ]
  },
  {
   "cell_type": "code",
   "execution_count": 26,
   "id": "1c909e88",
   "metadata": {},
   "outputs": [
    {
     "ename": "IndexError",
     "evalue": "tuple index out of range",
     "output_type": "error",
     "traceback": [
      "\u001b[1;31m---------------------------------------------------------------------------\u001b[0m",
      "\u001b[1;31mIndexError\u001b[0m                                Traceback (most recent call last)",
      "Cell \u001b[1;32mIn[26], line 1\u001b[0m\n\u001b[1;32m----> 1\u001b[0m gt \u001b[38;5;241m=\u001b[39m convert_xywh_to_xyxy(\u001b[43mboxes\u001b[49m\u001b[43m[\u001b[49m\u001b[38;5;241;43m0\u001b[39;49m\u001b[43m]\u001b[49m)\n\u001b[0;32m      2\u001b[0m pred \u001b[38;5;241m=\u001b[39m convert_xywh_to_xyxy(boxes[\u001b[38;5;241m1\u001b[39m])\n\u001b[0;32m      4\u001b[0m img_copy \u001b[38;5;241m=\u001b[39m img\u001b[38;5;241m.\u001b[39mcopy()\n",
      "\u001b[1;31mIndexError\u001b[0m: tuple index out of range"
     ]
    }
   ],
   "source": [
    "gt = convert_xywh_to_xyxy(boxes[0])\n",
    "pred = convert_xywh_to_xyxy(boxes[1])\n",
    "\n",
    "img_copy = img.copy()\n",
    "cv.rectangle(img_copy, (gt[0], gt[1],), (gt[2], gt[3]), (0,0,255), 2)\n",
    "cv.rectangle(img_copy, (pred[0], pred[1],), (pred[2], pred[3]), (255,0,0,2))\n",
    "cv.putText(img_copy, f\"IOU: {computeIOU(gt, pred):.3f}\", (10, 25), cv.FONT_HERSHEY_PLAIN, 0.5, (0,255,0), 1)\n",
    "             \n",
    "cv.imshow(\"IOU\", img_copy)\n",
    "cv.waitKey(0)\n",
    "cv.destroyAllWindows()"
   ]
  },
  {
   "cell_type": "markdown",
   "id": "8dbc4ff6",
   "metadata": {},
   "source": [
    "## image gradients\n",
    "kernel for $3 \\times 3$ Sobel operators:\n",
    "\n",
    "Vertical direction gradient (x-gradient)\n",
    "$$\\begin {bmatrix} -1 & 0 & 1\\\\ -2 & 0 & 2 \\\\ -1 & 0 & 1 \\end{bmatrix}$$"
   ]
  },
  {
   "cell_type": "markdown",
   "id": "3f2ac4ba",
   "metadata": {},
   "source": [
    "## Pitfalls (bit depth)"
   ]
  },
  {
   "cell_type": "code",
   "execution_count": 30,
   "id": "cd97ddff",
   "metadata": {},
   "outputs": [
    {
     "ename": "NameError",
     "evalue": "name 'plt_img' is not defined",
     "output_type": "error",
     "traceback": [
      "\u001b[1;31m---------------------------------------------------------------------------\u001b[0m",
      "\u001b[1;31mNameError\u001b[0m                                 Traceback (most recent call last)",
      "Cell \u001b[1;32mIn[30], line 14\u001b[0m\n\u001b[0;32m     11\u001b[0m sobely_32f \u001b[38;5;241m=\u001b[39m cv\u001b[38;5;241m.\u001b[39mSobel(th, cv\u001b[38;5;241m.\u001b[39mCV_32F, \u001b[38;5;241m0\u001b[39m, \u001b[38;5;241m1\u001b[39m, ksize\u001b[38;5;241m=\u001b[39m\u001b[38;5;241m3\u001b[39m)\n\u001b[0;32m     12\u001b[0m sobely \u001b[38;5;241m=\u001b[39m cv\u001b[38;5;241m.\u001b[39mconvertScaleAbs(sobely_32f)\n\u001b[1;32m---> 14\u001b[0m plt\u001b[38;5;241m.\u001b[39msubplot(\u001b[38;5;241m131\u001b[39m), \u001b[43mplt_img\u001b[49m(th, \u001b[38;5;124m\"\u001b[39m\u001b[38;5;124mthreshold\u001b[39m\u001b[38;5;124m\"\u001b[39m)\n\u001b[0;32m     15\u001b[0m plt\u001b[38;5;241m.\u001b[39msubplot(\u001b[38;5;241m132\u001b[39m), plt_img(sobely_8u, \u001b[38;5;124m\"\u001b[39m\u001b[38;5;124mcv.CV_8U\u001b[39m\u001b[38;5;124m\"\u001b[39m)\n\u001b[0;32m     16\u001b[0m plt\u001b[38;5;241m.\u001b[39msubplot(\u001b[38;5;241m133\u001b[39m), plt\u001b[38;5;241m.\u001b[39mimg(sobely, \u001b[38;5;124m\"\u001b[39m\u001b[38;5;124mcv.CV_32F\u001b[39m\u001b[38;5;124m\"\u001b[39m)\n",
      "\u001b[1;31mNameError\u001b[0m: name 'plt_img' is not defined"
     ]
    },
    {
     "data": {
      "image/png": "[encoded data removed]",
      "text/plain": [
       "<Figure size 640x480 with 1 Axes>"
      ]
     },
     "metadata": {},
     "output_type": "display_data"
    }
   ],
   "source": [
    "img = cv.imread(\"images/wood_planck.jfif\")\n",
    "gray = cv.cvtColor(img, cv.COLOR_BGR2GRAY)\n",
    "\n",
    "th = cv.threshold(gray, 200, 255, cv.THRESH_BINARY_INV)[1]\n",
    "\n",
    "#apply sobel kernel (wrong way)\n",
    "sobely_8u = cv.Sobel(th, cv.CV_8U, 0, 1, ksize=3)\n",
    "\n",
    "\n",
    "#right way\n",
    "sobely_32f = cv.Sobel(th, cv.CV_32F, 0, 1, ksize=3)\n",
    "sobely = cv.convertScaleAbs(sobely_32f)\n",
    "\n",
    "plt.subplot(131), plt_img(th, \"threshold\")\n",
    "plt.subplot(132), plt_img(sobely_8u, \"cv.CV_8U\")\n",
    "plt.subplot(133), plt.img(sobely, \"cv.CV_32F\")\n",
    "plt.show()"
   ]
  },
  {
   "cell_type": "code",
   "execution_count": 37,
   "id": "d5b1c916",
   "metadata": {},
   "outputs": [
    {
     "ename": "NameError",
     "evalue": "name 'plt_img' is not defined",
     "output_type": "error",
     "traceback": [
      "\u001b[1;31m---------------------------------------------------------------------------\u001b[0m",
      "\u001b[1;31mNameError\u001b[0m                                 Traceback (most recent call last)",
      "Cell \u001b[1;32mIn[37], line 14\u001b[0m\n\u001b[0;32m     11\u001b[0m gradient \u001b[38;5;241m=\u001b[39m cv\u001b[38;5;241m.\u001b[39mmagnitude(sobelx, sobely)\n\u001b[0;32m     12\u001b[0m direction \u001b[38;5;241m=\u001b[39m np\u001b[38;5;241m.\u001b[39marctan(sobelx, sobely) \u001b[38;5;241m*\u001b[39m (\u001b[38;5;241m180\u001b[39m \u001b[38;5;241m/\u001b[39m np\u001b[38;5;241m.\u001b[39mpi) \u001b[38;5;241m%\u001b[39m \u001b[38;5;241m180\u001b[39m\n\u001b[1;32m---> 14\u001b[0m plt\u001b[38;5;241m.\u001b[39msubplot(\u001b[38;5;241m221\u001b[39m), \u001b[43mplt_img\u001b[49m(sobelx_8u, \u001b[38;5;124m\"\u001b[39m\u001b[38;5;124mvertical edge\u001b[39m\u001b[38;5;124m\"\u001b[39m)\n\u001b[0;32m     15\u001b[0m plt\u001b[38;5;241m.\u001b[39msubplot(\u001b[38;5;241m222\u001b[39m), plt_img(sobely_8u, \u001b[38;5;124m\"\u001b[39m\u001b[38;5;124mhorixontal edge\u001b[39m\u001b[38;5;124m\"\u001b[39m)\n\u001b[0;32m     16\u001b[0m plt\u001b[38;5;241m.\u001b[39msubplot(\u001b[38;5;241m223\u001b[39m), plt_img(gradient, cmap\u001b[38;5;241m=\u001b[39m\u001b[38;5;124m\"\u001b[39m\u001b[38;5;124mjet\u001b[39m\u001b[38;5;124m\"\u001b[39m), plt\u001b[38;5;241m.\u001b[39mtitle(\u001b[38;5;124m\"\u001b[39m\u001b[38;5;124mgradient\u001b[39m\u001b[38;5;124m\"\u001b[39m), plt\u001b[38;5;241m.\u001b[39mcolorbar()\n",
      "\u001b[1;31mNameError\u001b[0m: name 'plt_img' is not defined"
     ]
    },
    {
     "data": {
      "image/png": "[encoded data removed]",
      "text/plain": [
       "<Figure size 640x480 with 1 Axes>"
      ]
     },
     "metadata": {},
     "output_type": "display_data"
    }
   ],
   "source": [
    "#combine both x and y direction to form gradient and orientation map\n",
    "ing = cv.imread(\"images/chessboard.png\", 0)\n",
    "\n",
    "#sobel x and sobel y\n",
    "sobelx = cv.Sobel(img, cv.CV_32F, 1, 0)\n",
    "sobelx_8u = cv.convertScaleAbs(sobelx)\n",
    "sobely = cv.Sobel(img, cv.CV_32F, 0, 1)\n",
    "sobely_8u = cv.convertScaleAbs(sobely)\n",
    "\n",
    "# combine x and y\n",
    "gradient = cv.magnitude(sobelx, sobely)\n",
    "direction = np.arctan(sobelx, sobely) * (180 / np.pi) % 180\n",
    "\n",
    "plt.subplot(221), plt_img(sobelx_8u, \"vertical edge\")\n",
    "plt.subplot(222), plt_img(sobely_8u, \"horixontal edge\")\n",
    "plt.subplot(223), plt_img(gradient, cmap=\"jet\"), plt.title(\"gradient\"), plt.colorbar()\n",
    "plt.subplot(224), plt.imshow(direction, cmap=\"jet\"), plt.title(\"direction\"),plt.colorbar()\n",
    "                             \n",
    "plt.show()"
   ]
  },
  {
   "cell_type": "markdown",
   "id": "c96374f8",
   "metadata": {},
   "source": [
    "## Laplacian (second order) derivatives"
   ]
  },
  {
   "cell_type": "code",
   "execution_count": 39,
   "id": "e2cf2f37",
   "metadata": {},
   "outputs": [],
   "source": [
    "img =cv.imread(\"images/lena.jfif\", 0)\n",
    "\n",
    "#blur\n",
    "blur = cv.GaussianBlur(img, (5,5), 0)\n",
    "LoG = cv.Laplacian(blur, cv.CV_16S)\n",
    "LoG = cv.convertScaleAbs(LoG)\n",
    "\n",
    "cv.imshow(\"grayscale\", img)\n",
    "cv.imshow(\"Log\", LoG)\n",
    "cv.waitKey(0)\n",
    "cv.destroyAllWindows()"
   ]
  },
  {
   "cell_type": "markdown",
   "id": "cb312b4f",
   "metadata": {},
   "source": [
    "## Canny edge detector\n",
    "- lower the number of false positives, enhance the edge detection\n",
    "- Flexible"
   ]
  },
  {
   "cell_type": "code",
   "execution_count": 40,
   "id": "2eda56e5",
   "metadata": {},
   "outputs": [
    {
     "ename": "NameError",
     "evalue": "name 'plt_img' is not defined",
     "output_type": "error",
     "traceback": [
      "\u001b[1;31m---------------------------------------------------------------------------\u001b[0m",
      "\u001b[1;31mNameError\u001b[0m                                 Traceback (most recent call last)",
      "Cell \u001b[1;32mIn[40], line 5\u001b[0m\n\u001b[0;32m      1\u001b[0m img \u001b[38;5;241m=\u001b[39m cv\u001b[38;5;241m.\u001b[39mimread(\u001b[38;5;124m\"\u001b[39m\u001b[38;5;124mimages/chair.jpg\u001b[39m\u001b[38;5;124m\"\u001b[39m, \u001b[38;5;241m0\u001b[39m) \u001b[38;5;66;03m#0 = greyscale\u001b[39;00m\n\u001b[0;32m      3\u001b[0m edge \u001b[38;5;241m=\u001b[39m cv\u001b[38;5;241m.\u001b[39mCanny(img, \u001b[38;5;241m100\u001b[39m, \u001b[38;5;241m300\u001b[39m)\n\u001b[1;32m----> 5\u001b[0m plt\u001b[38;5;241m.\u001b[39msubplot(\u001b[38;5;241m121\u001b[39m), \u001b[43mplt_img\u001b[49m(img, \u001b[38;5;124m\"\u001b[39m\u001b[38;5;124mgrayscale\u001b[39m\u001b[38;5;124m\"\u001b[39m)\n\u001b[0;32m      6\u001b[0m plt\u001b[38;5;241m.\u001b[39msubplot(\u001b[38;5;241m122\u001b[39m), plt_img(edge, \u001b[38;5;124m\"\u001b[39m\u001b[38;5;124mcanny\u001b[39m\u001b[38;5;124m\"\u001b[39m)\n\u001b[0;32m      7\u001b[0m plt\u001b[38;5;241m.\u001b[39mshow()\n",
      "\u001b[1;31mNameError\u001b[0m: name 'plt_img' is not defined"
     ]
    },
    {
     "data": {
      "image/png": "[encoded data removed]",
      "text/plain": [
       "<Figure size 640x480 with 1 Axes>"
      ]
     },
     "metadata": {},
     "output_type": "display_data"
    }
   ],
   "source": [
    "img = cv.imread(\"images/chair.jpg\", 0) #0 = greyscale\n",
    "\n",
    "edge = cv.Canny(img, 100, 300)\n",
    "\n",
    "plt.subplot(121), plt_img(img, \"grayscale\")\n",
    "plt.subplot(122), plt_img(edge, \"canny\")\n",
    "plt.show()"
   ]
  },
  {
   "cell_type": "code",
   "execution_count": 41,
   "id": "df5c302c",
   "metadata": {},
   "outputs": [
    {
     "ename": "NameError",
     "evalue": "name 'plt_img' is not defined",
     "output_type": "error",
     "traceback": [
      "\u001b[1;31m---------------------------------------------------------------------------\u001b[0m",
      "\u001b[1;31mNameError\u001b[0m                                 Traceback (most recent call last)",
      "Cell \u001b[1;32mIn[41], line 5\u001b[0m\n\u001b[0;32m      1\u001b[0m img \u001b[38;5;241m=\u001b[39m cv\u001b[38;5;241m.\u001b[39mimread(\u001b[38;5;124m\"\u001b[39m\u001b[38;5;124mimages/chair.jpg\u001b[39m\u001b[38;5;124m\"\u001b[39m, \u001b[38;5;241m0\u001b[39m) \u001b[38;5;66;03m#0 = greyscale\u001b[39;00m\n\u001b[0;32m      3\u001b[0m edge \u001b[38;5;241m=\u001b[39m cv\u001b[38;5;241m.\u001b[39mCanny(img, \u001b[38;5;241m30\u001b[39m, \u001b[38;5;241m150\u001b[39m)\n\u001b[1;32m----> 5\u001b[0m plt\u001b[38;5;241m.\u001b[39msubplot(\u001b[38;5;241m121\u001b[39m), \u001b[43mplt_img\u001b[49m(img, \u001b[38;5;124m\"\u001b[39m\u001b[38;5;124mgrayscale\u001b[39m\u001b[38;5;124m\"\u001b[39m)\n\u001b[0;32m      6\u001b[0m plt\u001b[38;5;241m.\u001b[39msubplot(\u001b[38;5;241m122\u001b[39m), plt_img(edge, \u001b[38;5;124m\"\u001b[39m\u001b[38;5;124mcanny\u001b[39m\u001b[38;5;124m\"\u001b[39m)\n\u001b[0;32m      7\u001b[0m plt\u001b[38;5;241m.\u001b[39mshow()\n",
      "\u001b[1;31mNameError\u001b[0m: name 'plt_img' is not defined"
     ]
    },
    {
     "data": {
      "image/png": "[encoded data removed]",
      "text/plain": [
       "<Figure size 640x480 with 1 Axes>"
      ]
     },
     "metadata": {},
     "output_type": "display_data"
    }
   ],
   "source": [
    "img = cv.imread(\"images/chair.jpg\", 0) #0 = greyscale\n",
    "\n",
    "edge = cv.Canny(img, 30, 150)\n",
    "\n",
    "plt.subplot(121), plt_img(img, \"grayscale\")\n",
    "plt.subplot(122), plt_img(edge, \"canny\")\n",
    "plt.show()"
   ]
  },
  {
   "cell_type": "code",
   "execution_count": 44,
   "id": "f52155d4",
   "metadata": {},
   "outputs": [
    {
     "data": {
      "image/png": "[encoded data removed]",
      "text/plain": [
       "<Figure size 640x480 with 2 Axes>"
      ]
     },
     "metadata": {},
     "output_type": "display_data"
    }
   ],
   "source": [
    "img = cv.imread(\"images/chair.jpg\", 0) #0 = greyscale\n",
    "edges = cv.Canny(img, 100, 200)\n",
    " \n",
    "plt.subplot(121), plt.imshow(img, cmap='gray')\n",
    "plt.title('Original'), plt.xticks([]), plt.yticks([])\n",
    "plt.subplot(122), plt.imshow(edges, cmap='gray')\n",
    "plt.title('Edge_Canny'), plt.xticks([]), plt.yticks([])\n",
    "plt.show()    "
   ]
  },
  {
   "cell_type": "markdown",
   "id": "3c71527e",
   "metadata": {},
   "source": [
    "# Exercise\n",
    "- create trackbar that control hysterisis thresholds and display resulting images from the changes in the thresholds"
   ]
  },
  {
   "cell_type": "code",
   "execution_count": 47,
   "id": "32fdba0b",
   "metadata": {},
   "outputs": [
    {
     "ename": "ValueError",
     "evalue": "operands could not be broadcast together with shapes (210,240,3) (183,275,1) ",
     "output_type": "error",
     "traceback": [
      "\u001b[1;31m---------------------------------------------------------------------------\u001b[0m",
      "\u001b[1;31mValueError\u001b[0m                                Traceback (most recent call last)",
      "Cell \u001b[1;32mIn[47], line 15\u001b[0m, in \u001b[0;36mcannyThresh\u001b[1;34m(val)\u001b[0m\n\u001b[0;32m     13\u001b[0m \u001b[38;5;66;03m#create color edge\u001b[39;00m\n\u001b[0;32m     14\u001b[0m mask \u001b[38;5;241m=\u001b[39m edge \u001b[38;5;241m!=\u001b[39m \u001b[38;5;241m0\u001b[39m\n\u001b[1;32m---> 15\u001b[0m res \u001b[38;5;241m=\u001b[39m \u001b[43mimg\u001b[49m\u001b[43m \u001b[49m\u001b[38;5;241;43m*\u001b[39;49m\u001b[43m \u001b[49m\u001b[43m(\u001b[49m\u001b[43mmask\u001b[49m\u001b[43m[\u001b[49m\u001b[43m:\u001b[49m\u001b[43m,\u001b[49m\u001b[43m \u001b[49m\u001b[43m:\u001b[49m\u001b[43m,\u001b[49m\u001b[43m \u001b[49m\u001b[38;5;28;43;01mNone\u001b[39;49;00m\u001b[43m]\u001b[49m\u001b[38;5;241;43m.\u001b[39;49m\u001b[43mastype\u001b[49m\u001b[43m(\u001b[49m\u001b[43mnp\u001b[49m\u001b[38;5;241;43m.\u001b[39;49m\u001b[43muint8\u001b[49m\u001b[43m)\u001b[49m\u001b[43m)\u001b[49m\n\u001b[0;32m     16\u001b[0m cv\u001b[38;5;241m.\u001b[39mimshow(wn, res)\n",
      "\u001b[1;31mValueError\u001b[0m: operands could not be broadcast together with shapes (210,240,3) (183,275,1) "
     ]
    },
    {
     "ename": "ValueError",
     "evalue": "operands could not be broadcast together with shapes (210,240,3) (183,275,1) ",
     "output_type": "error",
     "traceback": [
      "\u001b[1;31m---------------------------------------------------------------------------\u001b[0m",
      "\u001b[1;31mValueError\u001b[0m                                Traceback (most recent call last)",
      "Cell \u001b[1;32mIn[47], line 15\u001b[0m, in \u001b[0;36mcannyThresh\u001b[1;34m(val)\u001b[0m\n\u001b[0;32m     13\u001b[0m \u001b[38;5;66;03m#create color edge\u001b[39;00m\n\u001b[0;32m     14\u001b[0m mask \u001b[38;5;241m=\u001b[39m edge \u001b[38;5;241m!=\u001b[39m \u001b[38;5;241m0\u001b[39m\n\u001b[1;32m---> 15\u001b[0m res \u001b[38;5;241m=\u001b[39m \u001b[43mimg\u001b[49m\u001b[43m \u001b[49m\u001b[38;5;241;43m*\u001b[39;49m\u001b[43m \u001b[49m\u001b[43m(\u001b[49m\u001b[43mmask\u001b[49m\u001b[43m[\u001b[49m\u001b[43m:\u001b[49m\u001b[43m,\u001b[49m\u001b[43m \u001b[49m\u001b[43m:\u001b[49m\u001b[43m,\u001b[49m\u001b[43m \u001b[49m\u001b[38;5;28;43;01mNone\u001b[39;49;00m\u001b[43m]\u001b[49m\u001b[38;5;241;43m.\u001b[39;49m\u001b[43mastype\u001b[49m\u001b[43m(\u001b[49m\u001b[43mnp\u001b[49m\u001b[38;5;241;43m.\u001b[39;49m\u001b[43muint8\u001b[49m\u001b[43m)\u001b[49m\u001b[43m)\u001b[49m\n\u001b[0;32m     16\u001b[0m cv\u001b[38;5;241m.\u001b[39mimshow(wn, res)\n",
      "\u001b[1;31mValueError\u001b[0m: operands could not be broadcast together with shapes (210,240,3) (183,275,1) "
     ]
    },
    {
     "ename": "ValueError",
     "evalue": "operands could not be broadcast together with shapes (210,240,3) (183,275,1) ",
     "output_type": "error",
     "traceback": [
      "\u001b[1;31m---------------------------------------------------------------------------\u001b[0m",
      "\u001b[1;31mValueError\u001b[0m                                Traceback (most recent call last)",
      "Cell \u001b[1;32mIn[47], line 15\u001b[0m, in \u001b[0;36mcannyThresh\u001b[1;34m(val)\u001b[0m\n\u001b[0;32m     13\u001b[0m \u001b[38;5;66;03m#create color edge\u001b[39;00m\n\u001b[0;32m     14\u001b[0m mask \u001b[38;5;241m=\u001b[39m edge \u001b[38;5;241m!=\u001b[39m \u001b[38;5;241m0\u001b[39m\n\u001b[1;32m---> 15\u001b[0m res \u001b[38;5;241m=\u001b[39m \u001b[43mimg\u001b[49m\u001b[43m \u001b[49m\u001b[38;5;241;43m*\u001b[39;49m\u001b[43m \u001b[49m\u001b[43m(\u001b[49m\u001b[43mmask\u001b[49m\u001b[43m[\u001b[49m\u001b[43m:\u001b[49m\u001b[43m,\u001b[49m\u001b[43m \u001b[49m\u001b[43m:\u001b[49m\u001b[43m,\u001b[49m\u001b[43m \u001b[49m\u001b[38;5;28;43;01mNone\u001b[39;49;00m\u001b[43m]\u001b[49m\u001b[38;5;241;43m.\u001b[39;49m\u001b[43mastype\u001b[49m\u001b[43m(\u001b[49m\u001b[43mnp\u001b[49m\u001b[38;5;241;43m.\u001b[39;49m\u001b[43muint8\u001b[49m\u001b[43m)\u001b[49m\u001b[43m)\u001b[49m\n\u001b[0;32m     16\u001b[0m cv\u001b[38;5;241m.\u001b[39mimshow(wn, res)\n",
      "\u001b[1;31mValueError\u001b[0m: operands could not be broadcast together with shapes (210,240,3) (183,275,1) "
     ]
    },
    {
     "ename": "ValueError",
     "evalue": "operands could not be broadcast together with shapes (210,240,3) (183,275,1) ",
     "output_type": "error",
     "traceback": [
      "\u001b[1;31m---------------------------------------------------------------------------\u001b[0m",
      "\u001b[1;31mValueError\u001b[0m                                Traceback (most recent call last)",
      "Cell \u001b[1;32mIn[47], line 15\u001b[0m, in \u001b[0;36mcannyThresh\u001b[1;34m(val)\u001b[0m\n\u001b[0;32m     13\u001b[0m \u001b[38;5;66;03m#create color edge\u001b[39;00m\n\u001b[0;32m     14\u001b[0m mask \u001b[38;5;241m=\u001b[39m edge \u001b[38;5;241m!=\u001b[39m \u001b[38;5;241m0\u001b[39m\n\u001b[1;32m---> 15\u001b[0m res \u001b[38;5;241m=\u001b[39m \u001b[43mimg\u001b[49m\u001b[43m \u001b[49m\u001b[38;5;241;43m*\u001b[39;49m\u001b[43m \u001b[49m\u001b[43m(\u001b[49m\u001b[43mmask\u001b[49m\u001b[43m[\u001b[49m\u001b[43m:\u001b[49m\u001b[43m,\u001b[49m\u001b[43m \u001b[49m\u001b[43m:\u001b[49m\u001b[43m,\u001b[49m\u001b[43m \u001b[49m\u001b[38;5;28;43;01mNone\u001b[39;49;00m\u001b[43m]\u001b[49m\u001b[38;5;241;43m.\u001b[39;49m\u001b[43mastype\u001b[49m\u001b[43m(\u001b[49m\u001b[43mnp\u001b[49m\u001b[38;5;241;43m.\u001b[39;49m\u001b[43muint8\u001b[49m\u001b[43m)\u001b[49m\u001b[43m)\u001b[49m\n\u001b[0;32m     16\u001b[0m cv\u001b[38;5;241m.\u001b[39mimshow(wn, res)\n",
      "\u001b[1;31mValueError\u001b[0m: operands could not be broadcast together with shapes (210,240,3) (183,275,1) "
     ]
    },
    {
     "ename": "ValueError",
     "evalue": "operands could not be broadcast together with shapes (210,240,3) (183,275,1) ",
     "output_type": "error",
     "traceback": [
      "\u001b[1;31m---------------------------------------------------------------------------\u001b[0m",
      "\u001b[1;31mValueError\u001b[0m                                Traceback (most recent call last)",
      "Cell \u001b[1;32mIn[47], line 15\u001b[0m, in \u001b[0;36mcannyThresh\u001b[1;34m(val)\u001b[0m\n\u001b[0;32m     13\u001b[0m \u001b[38;5;66;03m#create color edge\u001b[39;00m\n\u001b[0;32m     14\u001b[0m mask \u001b[38;5;241m=\u001b[39m edge \u001b[38;5;241m!=\u001b[39m \u001b[38;5;241m0\u001b[39m\n\u001b[1;32m---> 15\u001b[0m res \u001b[38;5;241m=\u001b[39m \u001b[43mimg\u001b[49m\u001b[43m \u001b[49m\u001b[38;5;241;43m*\u001b[39;49m\u001b[43m \u001b[49m\u001b[43m(\u001b[49m\u001b[43mmask\u001b[49m\u001b[43m[\u001b[49m\u001b[43m:\u001b[49m\u001b[43m,\u001b[49m\u001b[43m \u001b[49m\u001b[43m:\u001b[49m\u001b[43m,\u001b[49m\u001b[43m \u001b[49m\u001b[38;5;28;43;01mNone\u001b[39;49;00m\u001b[43m]\u001b[49m\u001b[38;5;241;43m.\u001b[39;49m\u001b[43mastype\u001b[49m\u001b[43m(\u001b[49m\u001b[43mnp\u001b[49m\u001b[38;5;241;43m.\u001b[39;49m\u001b[43muint8\u001b[49m\u001b[43m)\u001b[49m\u001b[43m)\u001b[49m\n\u001b[0;32m     16\u001b[0m cv\u001b[38;5;241m.\u001b[39mimshow(wn, res)\n",
      "\u001b[1;31mValueError\u001b[0m: operands could not be broadcast together with shapes (210,240,3) (183,275,1) "
     ]
    },
    {
     "ename": "ValueError",
     "evalue": "operands could not be broadcast together with shapes (210,240,3) (183,275,1) ",
     "output_type": "error",
     "traceback": [
      "\u001b[1;31m---------------------------------------------------------------------------\u001b[0m",
      "\u001b[1;31mValueError\u001b[0m                                Traceback (most recent call last)",
      "Cell \u001b[1;32mIn[47], line 15\u001b[0m, in \u001b[0;36mcannyThresh\u001b[1;34m(val)\u001b[0m\n\u001b[0;32m     13\u001b[0m \u001b[38;5;66;03m#create color edge\u001b[39;00m\n\u001b[0;32m     14\u001b[0m mask \u001b[38;5;241m=\u001b[39m edge \u001b[38;5;241m!=\u001b[39m \u001b[38;5;241m0\u001b[39m\n\u001b[1;32m---> 15\u001b[0m res \u001b[38;5;241m=\u001b[39m \u001b[43mimg\u001b[49m\u001b[43m \u001b[49m\u001b[38;5;241;43m*\u001b[39;49m\u001b[43m \u001b[49m\u001b[43m(\u001b[49m\u001b[43mmask\u001b[49m\u001b[43m[\u001b[49m\u001b[43m:\u001b[49m\u001b[43m,\u001b[49m\u001b[43m \u001b[49m\u001b[43m:\u001b[49m\u001b[43m,\u001b[49m\u001b[43m \u001b[49m\u001b[38;5;28;43;01mNone\u001b[39;49;00m\u001b[43m]\u001b[49m\u001b[38;5;241;43m.\u001b[39;49m\u001b[43mastype\u001b[49m\u001b[43m(\u001b[49m\u001b[43mnp\u001b[49m\u001b[38;5;241;43m.\u001b[39;49m\u001b[43muint8\u001b[49m\u001b[43m)\u001b[49m\u001b[43m)\u001b[49m\n\u001b[0;32m     16\u001b[0m cv\u001b[38;5;241m.\u001b[39mimshow(wn, res)\n",
      "\u001b[1;31mValueError\u001b[0m: operands could not be broadcast together with shapes (210,240,3) (183,275,1) "
     ]
    },
    {
     "ename": "ValueError",
     "evalue": "operands could not be broadcast together with shapes (210,240,3) (183,275,1) ",
     "output_type": "error",
     "traceback": [
      "\u001b[1;31m---------------------------------------------------------------------------\u001b[0m",
      "\u001b[1;31mValueError\u001b[0m                                Traceback (most recent call last)",
      "Cell \u001b[1;32mIn[47], line 15\u001b[0m, in \u001b[0;36mcannyThresh\u001b[1;34m(val)\u001b[0m\n\u001b[0;32m     13\u001b[0m \u001b[38;5;66;03m#create color edge\u001b[39;00m\n\u001b[0;32m     14\u001b[0m mask \u001b[38;5;241m=\u001b[39m edge \u001b[38;5;241m!=\u001b[39m \u001b[38;5;241m0\u001b[39m\n\u001b[1;32m---> 15\u001b[0m res \u001b[38;5;241m=\u001b[39m \u001b[43mimg\u001b[49m\u001b[43m \u001b[49m\u001b[38;5;241;43m*\u001b[39;49m\u001b[43m \u001b[49m\u001b[43m(\u001b[49m\u001b[43mmask\u001b[49m\u001b[43m[\u001b[49m\u001b[43m:\u001b[49m\u001b[43m,\u001b[49m\u001b[43m \u001b[49m\u001b[43m:\u001b[49m\u001b[43m,\u001b[49m\u001b[43m \u001b[49m\u001b[38;5;28;43;01mNone\u001b[39;49;00m\u001b[43m]\u001b[49m\u001b[38;5;241;43m.\u001b[39;49m\u001b[43mastype\u001b[49m\u001b[43m(\u001b[49m\u001b[43mnp\u001b[49m\u001b[38;5;241;43m.\u001b[39;49m\u001b[43muint8\u001b[49m\u001b[43m)\u001b[49m\u001b[43m)\u001b[49m\n\u001b[0;32m     16\u001b[0m cv\u001b[38;5;241m.\u001b[39mimshow(wn, res)\n",
      "\u001b[1;31mValueError\u001b[0m: operands could not be broadcast together with shapes (210,240,3) (183,275,1) "
     ]
    },
    {
     "ename": "ValueError",
     "evalue": "operands could not be broadcast together with shapes (210,240,3) (183,275,1) ",
     "output_type": "error",
     "traceback": [
      "\u001b[1;31m---------------------------------------------------------------------------\u001b[0m",
      "\u001b[1;31mValueError\u001b[0m                                Traceback (most recent call last)",
      "Cell \u001b[1;32mIn[47], line 15\u001b[0m, in \u001b[0;36mcannyThresh\u001b[1;34m(val)\u001b[0m\n\u001b[0;32m     13\u001b[0m \u001b[38;5;66;03m#create color edge\u001b[39;00m\n\u001b[0;32m     14\u001b[0m mask \u001b[38;5;241m=\u001b[39m edge \u001b[38;5;241m!=\u001b[39m \u001b[38;5;241m0\u001b[39m\n\u001b[1;32m---> 15\u001b[0m res \u001b[38;5;241m=\u001b[39m \u001b[43mimg\u001b[49m\u001b[43m \u001b[49m\u001b[38;5;241;43m*\u001b[39;49m\u001b[43m \u001b[49m\u001b[43m(\u001b[49m\u001b[43mmask\u001b[49m\u001b[43m[\u001b[49m\u001b[43m:\u001b[49m\u001b[43m,\u001b[49m\u001b[43m \u001b[49m\u001b[43m:\u001b[49m\u001b[43m,\u001b[49m\u001b[43m \u001b[49m\u001b[38;5;28;43;01mNone\u001b[39;49;00m\u001b[43m]\u001b[49m\u001b[38;5;241;43m.\u001b[39;49m\u001b[43mastype\u001b[49m\u001b[43m(\u001b[49m\u001b[43mnp\u001b[49m\u001b[38;5;241;43m.\u001b[39;49m\u001b[43muint8\u001b[49m\u001b[43m)\u001b[49m\u001b[43m)\u001b[49m\n\u001b[0;32m     16\u001b[0m cv\u001b[38;5;241m.\u001b[39mimshow(wn, res)\n",
      "\u001b[1;31mValueError\u001b[0m: operands could not be broadcast together with shapes (210,240,3) (183,275,1) "
     ]
    },
    {
     "ename": "ValueError",
     "evalue": "operands could not be broadcast together with shapes (210,240,3) (183,275,1) ",
     "output_type": "error",
     "traceback": [
      "\u001b[1;31m---------------------------------------------------------------------------\u001b[0m",
      "\u001b[1;31mValueError\u001b[0m                                Traceback (most recent call last)",
      "Cell \u001b[1;32mIn[47], line 15\u001b[0m, in \u001b[0;36mcannyThresh\u001b[1;34m(val)\u001b[0m\n\u001b[0;32m     13\u001b[0m \u001b[38;5;66;03m#create color edge\u001b[39;00m\n\u001b[0;32m     14\u001b[0m mask \u001b[38;5;241m=\u001b[39m edge \u001b[38;5;241m!=\u001b[39m \u001b[38;5;241m0\u001b[39m\n\u001b[1;32m---> 15\u001b[0m res \u001b[38;5;241m=\u001b[39m \u001b[43mimg\u001b[49m\u001b[43m \u001b[49m\u001b[38;5;241;43m*\u001b[39;49m\u001b[43m \u001b[49m\u001b[43m(\u001b[49m\u001b[43mmask\u001b[49m\u001b[43m[\u001b[49m\u001b[43m:\u001b[49m\u001b[43m,\u001b[49m\u001b[43m \u001b[49m\u001b[43m:\u001b[49m\u001b[43m,\u001b[49m\u001b[43m \u001b[49m\u001b[38;5;28;43;01mNone\u001b[39;49;00m\u001b[43m]\u001b[49m\u001b[38;5;241;43m.\u001b[39;49m\u001b[43mastype\u001b[49m\u001b[43m(\u001b[49m\u001b[43mnp\u001b[49m\u001b[38;5;241;43m.\u001b[39;49m\u001b[43muint8\u001b[49m\u001b[43m)\u001b[49m\u001b[43m)\u001b[49m\n\u001b[0;32m     16\u001b[0m cv\u001b[38;5;241m.\u001b[39mimshow(wn, res)\n",
      "\u001b[1;31mValueError\u001b[0m: operands could not be broadcast together with shapes (210,240,3) (183,275,1) "
     ]
    },
    {
     "ename": "ValueError",
     "evalue": "operands could not be broadcast together with shapes (210,240,3) (183,275,1) ",
     "output_type": "error",
     "traceback": [
      "\u001b[1;31m---------------------------------------------------------------------------\u001b[0m",
      "\u001b[1;31mValueError\u001b[0m                                Traceback (most recent call last)",
      "Cell \u001b[1;32mIn[47], line 15\u001b[0m, in \u001b[0;36mcannyThresh\u001b[1;34m(val)\u001b[0m\n\u001b[0;32m     13\u001b[0m \u001b[38;5;66;03m#create color edge\u001b[39;00m\n\u001b[0;32m     14\u001b[0m mask \u001b[38;5;241m=\u001b[39m edge \u001b[38;5;241m!=\u001b[39m \u001b[38;5;241m0\u001b[39m\n\u001b[1;32m---> 15\u001b[0m res \u001b[38;5;241m=\u001b[39m \u001b[43mimg\u001b[49m\u001b[43m \u001b[49m\u001b[38;5;241;43m*\u001b[39;49m\u001b[43m \u001b[49m\u001b[43m(\u001b[49m\u001b[43mmask\u001b[49m\u001b[43m[\u001b[49m\u001b[43m:\u001b[49m\u001b[43m,\u001b[49m\u001b[43m \u001b[49m\u001b[43m:\u001b[49m\u001b[43m,\u001b[49m\u001b[43m \u001b[49m\u001b[38;5;28;43;01mNone\u001b[39;49;00m\u001b[43m]\u001b[49m\u001b[38;5;241;43m.\u001b[39;49m\u001b[43mastype\u001b[49m\u001b[43m(\u001b[49m\u001b[43mnp\u001b[49m\u001b[38;5;241;43m.\u001b[39;49m\u001b[43muint8\u001b[49m\u001b[43m)\u001b[49m\u001b[43m)\u001b[49m\n\u001b[0;32m     16\u001b[0m cv\u001b[38;5;241m.\u001b[39mimshow(wn, res)\n",
      "\u001b[1;31mValueError\u001b[0m: operands could not be broadcast together with shapes (210,240,3) (183,275,1) "
     ]
    },
    {
     "ename": "ValueError",
     "evalue": "operands could not be broadcast together with shapes (210,240,3) (183,275,1) ",
     "output_type": "error",
     "traceback": [
      "\u001b[1;31m---------------------------------------------------------------------------\u001b[0m",
      "\u001b[1;31mValueError\u001b[0m                                Traceback (most recent call last)",
      "Cell \u001b[1;32mIn[47], line 15\u001b[0m, in \u001b[0;36mcannyThresh\u001b[1;34m(val)\u001b[0m\n\u001b[0;32m     13\u001b[0m \u001b[38;5;66;03m#create color edge\u001b[39;00m\n\u001b[0;32m     14\u001b[0m mask \u001b[38;5;241m=\u001b[39m edge \u001b[38;5;241m!=\u001b[39m \u001b[38;5;241m0\u001b[39m\n\u001b[1;32m---> 15\u001b[0m res \u001b[38;5;241m=\u001b[39m \u001b[43mimg\u001b[49m\u001b[43m \u001b[49m\u001b[38;5;241;43m*\u001b[39;49m\u001b[43m \u001b[49m\u001b[43m(\u001b[49m\u001b[43mmask\u001b[49m\u001b[43m[\u001b[49m\u001b[43m:\u001b[49m\u001b[43m,\u001b[49m\u001b[43m \u001b[49m\u001b[43m:\u001b[49m\u001b[43m,\u001b[49m\u001b[43m \u001b[49m\u001b[38;5;28;43;01mNone\u001b[39;49;00m\u001b[43m]\u001b[49m\u001b[38;5;241;43m.\u001b[39;49m\u001b[43mastype\u001b[49m\u001b[43m(\u001b[49m\u001b[43mnp\u001b[49m\u001b[38;5;241;43m.\u001b[39;49m\u001b[43muint8\u001b[49m\u001b[43m)\u001b[49m\u001b[43m)\u001b[49m\n\u001b[0;32m     16\u001b[0m cv\u001b[38;5;241m.\u001b[39mimshow(wn, res)\n",
      "\u001b[1;31mValueError\u001b[0m: operands could not be broadcast together with shapes (210,240,3) (183,275,1) "
     ]
    },
    {
     "ename": "ValueError",
     "evalue": "operands could not be broadcast together with shapes (210,240,3) (183,275,1) ",
     "output_type": "error",
     "traceback": [
      "\u001b[1;31m---------------------------------------------------------------------------\u001b[0m",
      "\u001b[1;31mValueError\u001b[0m                                Traceback (most recent call last)",
      "Cell \u001b[1;32mIn[47], line 15\u001b[0m, in \u001b[0;36mcannyThresh\u001b[1;34m(val)\u001b[0m\n\u001b[0;32m     13\u001b[0m \u001b[38;5;66;03m#create color edge\u001b[39;00m\n\u001b[0;32m     14\u001b[0m mask \u001b[38;5;241m=\u001b[39m edge \u001b[38;5;241m!=\u001b[39m \u001b[38;5;241m0\u001b[39m\n\u001b[1;32m---> 15\u001b[0m res \u001b[38;5;241m=\u001b[39m \u001b[43mimg\u001b[49m\u001b[43m \u001b[49m\u001b[38;5;241;43m*\u001b[39;49m\u001b[43m \u001b[49m\u001b[43m(\u001b[49m\u001b[43mmask\u001b[49m\u001b[43m[\u001b[49m\u001b[43m:\u001b[49m\u001b[43m,\u001b[49m\u001b[43m \u001b[49m\u001b[43m:\u001b[49m\u001b[43m,\u001b[49m\u001b[43m \u001b[49m\u001b[38;5;28;43;01mNone\u001b[39;49;00m\u001b[43m]\u001b[49m\u001b[38;5;241;43m.\u001b[39;49m\u001b[43mastype\u001b[49m\u001b[43m(\u001b[49m\u001b[43mnp\u001b[49m\u001b[38;5;241;43m.\u001b[39;49m\u001b[43muint8\u001b[49m\u001b[43m)\u001b[49m\u001b[43m)\u001b[49m\n\u001b[0;32m     16\u001b[0m cv\u001b[38;5;241m.\u001b[39mimshow(wn, res)\n",
      "\u001b[1;31mValueError\u001b[0m: operands could not be broadcast together with shapes (210,240,3) (183,275,1) "
     ]
    },
    {
     "ename": "ValueError",
     "evalue": "operands could not be broadcast together with shapes (210,240,3) (183,275,1) ",
     "output_type": "error",
     "traceback": [
      "\u001b[1;31m---------------------------------------------------------------------------\u001b[0m",
      "\u001b[1;31mValueError\u001b[0m                                Traceback (most recent call last)",
      "Cell \u001b[1;32mIn[47], line 15\u001b[0m, in \u001b[0;36mcannyThresh\u001b[1;34m(val)\u001b[0m\n\u001b[0;32m     13\u001b[0m \u001b[38;5;66;03m#create color edge\u001b[39;00m\n\u001b[0;32m     14\u001b[0m mask \u001b[38;5;241m=\u001b[39m edge \u001b[38;5;241m!=\u001b[39m \u001b[38;5;241m0\u001b[39m\n\u001b[1;32m---> 15\u001b[0m res \u001b[38;5;241m=\u001b[39m \u001b[43mimg\u001b[49m\u001b[43m \u001b[49m\u001b[38;5;241;43m*\u001b[39;49m\u001b[43m \u001b[49m\u001b[43m(\u001b[49m\u001b[43mmask\u001b[49m\u001b[43m[\u001b[49m\u001b[43m:\u001b[49m\u001b[43m,\u001b[49m\u001b[43m \u001b[49m\u001b[43m:\u001b[49m\u001b[43m,\u001b[49m\u001b[43m \u001b[49m\u001b[38;5;28;43;01mNone\u001b[39;49;00m\u001b[43m]\u001b[49m\u001b[38;5;241;43m.\u001b[39;49m\u001b[43mastype\u001b[49m\u001b[43m(\u001b[49m\u001b[43mnp\u001b[49m\u001b[38;5;241;43m.\u001b[39;49m\u001b[43muint8\u001b[49m\u001b[43m)\u001b[49m\u001b[43m)\u001b[49m\n\u001b[0;32m     16\u001b[0m cv\u001b[38;5;241m.\u001b[39mimshow(wn, res)\n",
      "\u001b[1;31mValueError\u001b[0m: operands could not be broadcast together with shapes (210,240,3) (183,275,1) "
     ]
    },
    {
     "ename": "ValueError",
     "evalue": "operands could not be broadcast together with shapes (210,240,3) (183,275,1) ",
     "output_type": "error",
     "traceback": [
      "\u001b[1;31m---------------------------------------------------------------------------\u001b[0m",
      "\u001b[1;31mValueError\u001b[0m                                Traceback (most recent call last)",
      "Cell \u001b[1;32mIn[47], line 15\u001b[0m, in \u001b[0;36mcannyThresh\u001b[1;34m(val)\u001b[0m\n\u001b[0;32m     13\u001b[0m \u001b[38;5;66;03m#create color edge\u001b[39;00m\n\u001b[0;32m     14\u001b[0m mask \u001b[38;5;241m=\u001b[39m edge \u001b[38;5;241m!=\u001b[39m \u001b[38;5;241m0\u001b[39m\n\u001b[1;32m---> 15\u001b[0m res \u001b[38;5;241m=\u001b[39m \u001b[43mimg\u001b[49m\u001b[43m \u001b[49m\u001b[38;5;241;43m*\u001b[39;49m\u001b[43m \u001b[49m\u001b[43m(\u001b[49m\u001b[43mmask\u001b[49m\u001b[43m[\u001b[49m\u001b[43m:\u001b[49m\u001b[43m,\u001b[49m\u001b[43m \u001b[49m\u001b[43m:\u001b[49m\u001b[43m,\u001b[49m\u001b[43m \u001b[49m\u001b[38;5;28;43;01mNone\u001b[39;49;00m\u001b[43m]\u001b[49m\u001b[38;5;241;43m.\u001b[39;49m\u001b[43mastype\u001b[49m\u001b[43m(\u001b[49m\u001b[43mnp\u001b[49m\u001b[38;5;241;43m.\u001b[39;49m\u001b[43muint8\u001b[49m\u001b[43m)\u001b[49m\u001b[43m)\u001b[49m\n\u001b[0;32m     16\u001b[0m cv\u001b[38;5;241m.\u001b[39mimshow(wn, res)\n",
      "\u001b[1;31mValueError\u001b[0m: operands could not be broadcast together with shapes (210,240,3) (183,275,1) "
     ]
    },
    {
     "ename": "ValueError",
     "evalue": "operands could not be broadcast together with shapes (210,240,3) (183,275,1) ",
     "output_type": "error",
     "traceback": [
      "\u001b[1;31m---------------------------------------------------------------------------\u001b[0m",
      "\u001b[1;31mValueError\u001b[0m                                Traceback (most recent call last)",
      "Cell \u001b[1;32mIn[47], line 15\u001b[0m, in \u001b[0;36mcannyThresh\u001b[1;34m(val)\u001b[0m\n\u001b[0;32m     13\u001b[0m \u001b[38;5;66;03m#create color edge\u001b[39;00m\n\u001b[0;32m     14\u001b[0m mask \u001b[38;5;241m=\u001b[39m edge \u001b[38;5;241m!=\u001b[39m \u001b[38;5;241m0\u001b[39m\n\u001b[1;32m---> 15\u001b[0m res \u001b[38;5;241m=\u001b[39m \u001b[43mimg\u001b[49m\u001b[43m \u001b[49m\u001b[38;5;241;43m*\u001b[39;49m\u001b[43m \u001b[49m\u001b[43m(\u001b[49m\u001b[43mmask\u001b[49m\u001b[43m[\u001b[49m\u001b[43m:\u001b[49m\u001b[43m,\u001b[49m\u001b[43m \u001b[49m\u001b[43m:\u001b[49m\u001b[43m,\u001b[49m\u001b[43m \u001b[49m\u001b[38;5;28;43;01mNone\u001b[39;49;00m\u001b[43m]\u001b[49m\u001b[38;5;241;43m.\u001b[39;49m\u001b[43mastype\u001b[49m\u001b[43m(\u001b[49m\u001b[43mnp\u001b[49m\u001b[38;5;241;43m.\u001b[39;49m\u001b[43muint8\u001b[49m\u001b[43m)\u001b[49m\u001b[43m)\u001b[49m\n\u001b[0;32m     16\u001b[0m cv\u001b[38;5;241m.\u001b[39mimshow(wn, res)\n",
      "\u001b[1;31mValueError\u001b[0m: operands could not be broadcast together with shapes (210,240,3) (183,275,1) "
     ]
    }
   ],
   "source": [
    "img = cv.imread(\"images/airplanes.jfif\")\n",
    "grey = cv.cvtColor(img, cv.COLOR_BGR2GRAY)\n",
    "\n",
    "wn = \"Canny edge\"\n",
    "trackbarName = \"low threshold\"\n",
    "ratio = 2.5\n",
    "ksize = 3\n",
    "img_copy = img.copy()\n",
    "\n",
    "def cannyThresh(val):\n",
    "    edge = cv.Canny(gray, val, ratio * val, apertureSize=ksize)\n",
    "    \n",
    "    #create color edge\n",
    "    mask = edge != 0\n",
    "    res = img * (mask[:, :, None].astype(np.uint8))\n",
    "    cv.imshow(wn, res)\n",
    "    \n",
    "cv.namedWindow(wn)\n",
    "cv.createTrackbar(trackbarName, wn, 0, 100, cannyThresh)\n",
    "\n",
    "cv.waitKey(0)\n",
    "cv.destroyAllWindows()"
   ]
  },
  {
   "cell_type": "code",
   "execution_count": 51,
   "id": "0efa7dbd",
   "metadata": {},
   "outputs": [],
   "source": [
    "#automatic canny\n",
    "def canny_auto(img, method, sigma=0.33):\n",
    "    \"\"\"Args:\n",
    "    imgL grayscale\n",
    "    method: median, triangle and otsu\n",
    "    sigma=0.33 (default)\"\"\"\n",
    "    if method == \"median\":\n",
    "        Th = np.median(img)\n",
    "    \n",
    "    elif method == \"triangle\":\n",
    "        Th = cv.threshold(img, 0, 255, cv.THRESH_TRIANGLE)[0]\n",
    "        \n",
    "    elif method == \"otsu\":\n",
    "        Th = cv.threshold(img, 0, 255, cv.THRESH_OTSU)[0]\n",
    "        \n",
    "    else:\n",
    "        raise Exceotion(\"method specified not available!\")\n",
    "    \n",
    "    lowThresh = (1-sigma) * Th\n",
    "    highThresh = (1+sigma) * Th\n",
    "    \n",
    "    return cv.Canny(img, lowThresh, highThresh)"
   ]
  },
  {
   "cell_type": "markdown",
   "id": "0469733a",
   "metadata": {},
   "source": [
    "### Contours\n",
    "Curve joining all points along the object boundary"
   ]
  },
  {
   "cell_type": "code",
   "execution_count": 54,
   "id": "96e4a3b1",
   "metadata": {},
   "outputs": [],
   "source": [
    "rect = np.zeros((256, 256), dtype = np.uint8)\n",
    "\n",
    "cv.rectangle(rect, (25, 25), (231, 231), 255, -1)\n",
    "\n",
    "contours, _ = cv.findContours(rect, cv.RETR_EXTERNAL, cv.CHAIN_APPROX_SIMPLE)"
   ]
  },
  {
   "cell_type": "code",
   "execution_count": 55,
   "id": "4328d039",
   "metadata": {},
   "outputs": [
    {
     "data": {
      "text/plain": [
       "1"
      ]
     },
     "execution_count": 55,
     "metadata": {},
     "output_type": "execute_result"
    }
   ],
   "source": [
    "len(contours)"
   ]
  },
  {
   "cell_type": "code",
   "execution_count": 57,
   "id": "031cd2cd",
   "metadata": {},
   "outputs": [
    {
     "data": {
      "text/plain": [
       "array([[[ 25,  25]],\n",
       "\n",
       "       [[ 25, 231]],\n",
       "\n",
       "       [[231, 231]],\n",
       "\n",
       "       [[231,  25]]], dtype=int32)"
      ]
     },
     "execution_count": 57,
     "metadata": {},
     "output_type": "execute_result"
    }
   ],
   "source": [
    "contours[0]"
   ]
  },
  {
   "cell_type": "code",
   "execution_count": 65,
   "id": "7617f488",
   "metadata": {},
   "outputs": [],
   "source": [
    "rect_bgr = cv.cvtColor(rect, cv.COLOR_GRAY2BGR)\n",
    "cv.drawContours(rect, contours, -1, (0, 255, 0), 2) #-1 = draw everything\n",
    "\n",
    "cv.imshow(\"contour\", rect_bgr)\n",
    "cv.waitKey(0)\n",
    "cv.destroyAllWindows()"
   ]
  },
  {
   "cell_type": "code",
   "execution_count": 70,
   "id": "1bfca6ac",
   "metadata": {},
   "outputs": [],
   "source": [
    "img = cv.imread(\"images/monitor.jfif\")\n",
    "gray = cv.cvtColor(img, cv.COLOR_BGR2GRAY)\n",
    "\n",
    "#Binary threshold\n",
    "th = cv.threshold(gray, 200, 255, cv.THRESH_BINARY_INV)[1]\n",
    "\n",
    "#find contours\n",
    "contours, _ = cv.findContours(rect, cv.RETR_TREE, cv.CHAIN_APPROX_SIMPLE)\n",
    "\n",
    "#draw contours\n",
    "img_copy = img.copy()\n",
    "cv.drawContours(img_copy, contours, -1, (0, 255,0), 1)\n",
    "cv.imshow(\"contours\", img_copy)\n",
    "cv.waitKey(0)\n",
    "cv.destroyAllWindows()"
   ]
  },
  {
   "cell_type": "code",
   "execution_count": 71,
   "id": "89dd5e37",
   "metadata": {},
   "outputs": [
    {
     "data": {
      "text/plain": [
       "1"
      ]
     },
     "execution_count": 71,
     "metadata": {},
     "output_type": "execute_result"
    }
   ],
   "source": [
    "len(contours)"
   ]
  },
  {
   "cell_type": "code",
   "execution_count": 72,
   "id": "a62c5aa4",
   "metadata": {},
   "outputs": [],
   "source": [
    "# one of the simply way: retain just the contours with largest number of points\n",
    "length = [len(c) for c in contours]\n",
    "cnt = contours[np.argmax(length)]\n",
    "\n",
    "img_copy = img.copy()\n",
    "cv.drawContours(img_copy, [cnt], -1, (0, 255,0), 1)\n",
    "cv.imshow(\"contours\", img_copy)\n",
    "cv.waitKey(0)\n",
    "cv.destroyAllWindows()"
   ]
  },
  {
   "cell_type": "markdown",
   "id": "282060f6",
   "metadata": {},
   "source": [
    "## Contour features\n",
    "- centroid\n",
    "- area\n",
    "- perimeter\n",
    "- bouding box"
   ]
  },
  {
   "cell_type": "code",
   "execution_count": 73,
   "id": "69586f9b",
   "metadata": {},
   "outputs": [
    {
     "name": "stdout",
     "output_type": "stream",
     "text": [
      "{'m00': 40804.0, 'm10': 5222912.0, 'm01': 5222912.0, 'm20': 807279937.3333333, 'm11': 668532736.0, 'm02': 807279937.3333333, 'm30': 138851115520.0, 'm21': 103331831978.66667, 'm12': 103331831978.66667, 'm03': 138851115520.0, 'mu20': 138747201.33333337, 'mu11': 1.1920928955078125e-07, 'mu02': 138747201.33333337, 'mu30': 3.0517578125e-05, 'mu21': 3.814697265625e-06, 'mu12': 3.814697265625e-06, 'mu03': 3.0517578125e-05, 'nu20': 0.08333333333333334, 'nu11': 7.159861508628846e-17, 'nu02': 0.08333333333333334, 'nu30': 9.073883892123686e-17, 'nu21': 1.1342354865154608e-17, 'nu12': 1.1342354865154608e-17, 'nu03': 9.073883892123686e-17}\n"
     ]
    }
   ],
   "source": [
    "M = cv.moments(cnt)\n",
    "print(M)"
   ]
  },
  {
   "cell_type": "code",
   "execution_count": 74,
   "id": "63405574",
   "metadata": {},
   "outputs": [
    {
     "name": "stdout",
     "output_type": "stream",
     "text": [
      "The centriod of contour: (128, 128)\n"
     ]
    }
   ],
   "source": [
    "cx = int(M['m10'] / M['m00'])\n",
    "cy = int(M['m01'] / M['m00'])\n",
    "\n",
    "print(f\"The centriod of contour: {(cx, cy)}\")"
   ]
  },
  {
   "cell_type": "code",
   "execution_count": 78,
   "id": "58206155",
   "metadata": {},
   "outputs": [
    {
     "name": "stdout",
     "output_type": "stream",
     "text": [
      "The area of contour: 40804.0\n",
      "The perimeter of contour: 808.0\n"
     ]
    }
   ],
   "source": [
    "area = cv.contourArea(cnt)\n",
    "peri = cv.arcLength(cnt, True) # true =  want te contour to be closed\n",
    "print(f\"The area of contour: {area}\")\n",
    "print(\"The perimeter of contour: {}\".format(round(peri, 3)))"
   ]
  },
  {
   "cell_type": "markdown",
   "id": "a1e11e44",
   "metadata": {},
   "source": [
    "## contour properties\n",
    "$$aspect \\ ratio = \\frac{width}{height}$$\n",
    "\n",
    "$$circularity =\\frac{4 \\times \\pi \\times A}{Perimeter^2} $$"
   ]
  },
  {
   "cell_type": "code",
   "execution_count": 83,
   "id": "7fe0c972",
   "metadata": {},
   "outputs": [],
   "source": [
    "img = cv.imread(\"images/remote-controller.webp\")\n",
    "\n",
    "cv.imshow(\"aircond controller\", img)\n",
    "cv.waitKey(0)\n",
    "cv.destroyAllWindows()"
   ]
  },
  {
   "cell_type": "code",
   "execution_count": 84,
   "id": "0bb6918d",
   "metadata": {},
   "outputs": [],
   "source": [
    "#resize → grayscale → bilateral(reduce noise and maintain edge) → Canny → find contour ∞ contour feaatures\n",
    "#sort the contour with respect to area in descending order\n",
    "factor = 300 / img.shape[1] # shrinking.enlarge ratio\n",
    "img = cv.resize(img, None, fx=factor, fy=factor)\n",
    "\n",
    "grey = cv.cvtColor(img, cv.COLOR_BGR2GRAY)\n",
    "\n",
    "blur = cv.bilateralFilter(gray, 7, 19, 13)\n",
    "edge = canny_auto(blur, method=\"triangle\")\n",
    "\n",
    "cv.imshow(\"edge\", edge)\n",
    "cv.waitKey(0)\n",
    "cv.destroyAllWindows()"
   ]
  },
  {
   "cell_type": "code",
   "execution_count": 86,
   "id": "6eadde57",
   "metadata": {},
   "outputs": [],
   "source": [
    "contours, _ = cv.findContours(edge, cv.RETR_TREE, cv.CHAIN_APPROX_SIMPLE)\n",
    "\n",
    "cnts = sorted(contours, key=cv.contourArea, reverse=True)[:5]\n",
    "screen = None\n",
    "#rectangular contour\n",
    "for c in cnts:\n",
    "    peri = cv.arcLength(c, True)\n",
    "    approx = cv.approxPolyDP(c, 0.1*peri, True)\n",
    "    \n",
    "    if len(approx) == 4:\n",
    "        screen = c\n",
    "        break\n",
    "\n",
    "cv.drawContours(img_copy, [screen], -1, (0, 255, 0), 2)\n",
    "cv.imshow(\"contour\", img_copy)\n",
    "cv.waitKey(0)\n",
    "cv.destroyAllWindows()"
   ]
  },
  {
   "cell_type": "code",
   "execution_count": 95,
   "id": "4f6c4cb3",
   "metadata": {},
   "outputs": [],
   "source": [
    "#define the low and high threshold for red color in HSV color space\n",
    "redLow1 = (0, 90, 40)\n",
    "redHigh1 = (10, 255, 210)\n",
    "\n",
    "redLow2 = (170, 90, 40)\n",
    "redHigh2 = (179, 255, 210)\n",
    "\n",
    "cap = cv.VideoCapture(0)\n",
    "\n",
    "if not cap.isOpened():\n",
    "    sys.exit(\"No webcam is detected!\")\n",
    "\n",
    "kernel = np.ones((3,3), dtype=np.uint8)\n",
    "fixed_width = min_area = 500\n",
    "factor = fixed_width / cap.get(3)       #frame width\n",
    "    \n",
    "while True:\n",
    "    ret, frame = cap.read()\n",
    "    \n",
    "    if not ret:\n",
    "        print(\"frame not received\")\n",
    "        break\n",
    "        \n",
    "    # resize -> blur -> HSV -> color inRange -> morphology\n",
    "    resize = cv.resize(frame, None, fx=factor, fy=factor)\n",
    "    blur = cv.GaussianBlur(resize, (5,5), 0)\n",
    "    img_hsv = cv.cvtColor(blur, cv.COLOR_BGR2HSV)\n",
    "    \n",
    "    # color segmentation\n",
    "    mask1 = cv.inRange(img_hsv, redLow1, redHigh1)\n",
    "    mask2 = cv.inRange(img_hsv, redLow2, redHigh2)\n",
    "    mask = cv.add(mask1, mask2)\n",
    "    \n",
    "    #morphological opening (remove noise)\n",
    "    mask - cv.morphologyEx(mask, cv.MORPH_OPEN, kernel, iterations=2)\n",
    "    \n",
    "    #find contour\n",
    "    contours= cv.findContours(mask, cv.RETR_EXTERNAL, cv.CHAIN_APPROX_SIMPLE)\n",
    "    cnt = contours[0]\n",
    "    bbs = []\n",
    "    \n",
    "    # filter out smaller object and draw bounding box\n",
    "    for c in cnts:\n",
    "        area = cv.contourArea(c)\n",
    "        if area > min_area:\n",
    "            bb = cv.boundingRect(c)\n",
    "            bbs.append(bb)\n",
    "            \n",
    "    for bb in bbs:\n",
    "        x,y,w,h = bb\n",
    "        cv.rectangle(resize, (x,y), (x+w, y+h), (0,255,0), 2)\n",
    "        \n",
    "    cv.imshow(\"red object\", resize)\n",
    "    k = cv.waitKey(1) & 0xFF\n",
    "    if k == 27:\n",
    "        break\n",
    "    \n",
    "cv.destroyAllWindows()\n",
    "cap.release()"
   ]
  },
  {
   "cell_type": "markdown",
   "id": "cf892e92",
   "metadata": {},
   "source": [
    "## Exercise\n",
    "- Load the 'dice.jfif' and perform blob detection to detect as many pips on the dice as possible. You may use trackbar to find the best parameter settings."
   ]
  },
  {
   "cell_type": "code",
   "execution_count": 36,
   "id": "089ffbab",
   "metadata": {},
   "outputs": [],
   "source": [
    "image = cv.imread(\"images/dice.jfif\")\n",
    "\n",
    "#blob detector\n",
    "param = cv.SimpleBlobDetector_Params()\n",
    "\n",
    "\n",
    "# Filter by Area.\n",
    "param.filterByArea = True\n",
    "\n",
    "# Filter by Circularity\n",
    "param.filterByCircularity = False\n",
    "\n",
    "# Filter by Convexity\n",
    "param.filterByConvexity = False\n",
    "\n",
    "# Filter by Inertia (detect compact blobs)\n",
    "param.filterByInertia = False\n",
    "\n",
    "# Create a blob detector with the specified parameters\n",
    "detector = cv.SimpleBlobDetector_create(param)\n",
    "\n",
    "# Detect blobs\n",
    "keypoints = detector.detect(image)\n",
    "\n",
    "# Draw detected blobs as red circles\n",
    "img_with_keypoints = cv.drawKeypoints(image, keypoints, outImage=None, color=(0, 0, 255), flags=cv.DRAW_MATCHES_FLAGS_DRAW_RICH_KEYPOINTS)\n",
    "\n",
    "# Display the image with detected blobs\n",
    "cv.imshow('Blobs Detected', img_with_keypoints)\n",
    "cv.waitKey(0)\n",
    "cv.destroyAllWindows()"
   ]
  },
  {
   "cell_type": "markdown",
   "id": "ceca6ad7",
   "metadata": {},
   "source": [
    "## Activity\n",
    "1. Experiment with different edge detectors: Sobel, Laplacian, Prewitt, Scharr derivatives and Canny operators (all with aperture size of 3) on image named 'pineapple.jfif'. Comment on the results.\n",
    "\n",
    "2. Write a program to identify the white object (probably laptop) present in the image 'electronic.jfif'. Draw\n",
    "\n",
    "3. Isolate the clock with the aid of edge detection and contours' properties. The example result should be as\n"
   ]
  },
  {
   "cell_type": "code",
   "execution_count": 52,
   "id": "f189579f",
   "metadata": {},
   "outputs": [],
   "source": [
    "# exercise 2\n",
    "img = cv.imread(\"images/electronic.jfif\")\n",
    "\n",
    "# convert the image to HSV color space\n",
    "hsv_img = cv.cvtColor(img, cv.COLOR_BGR2HSV)\n",
    "\n",
    "# define lower and upper bounds of white color in HSV\n",
    "lower_white = np.array([0, 0, 200])\n",
    "upper_white = np.array([255, 30, 255])\n",
    "\n",
    "# create a mask using the color threshold\n",
    "mask = cv.inRange(hsv_img, lower_white, upper_white)\n",
    "\n",
    "# find contours in the mask\n",
    "contours, _ = cv.findContours(mask, cv.RETR_EXTERNAL, cv.CHAIN_APPROX_SIMPLE)\n",
    "\n",
    "# draw contours on the original image\n",
    "if len(contours) > 0:\n",
    "    max_contour = max(contours, key=cv.contourArea)\n",
    "    cv.drawContours(img, [max_contour], -1, (0, 255, 0), 2)  # Draw green contour around the object\n",
    "\n",
    "\n",
    "cv.imshow('White Object', img)\n",
    "cv.waitKey(0)\n",
    "cv.destroyAllWindows()"
   ]
  },
  {
   "cell_type": "code",
   "execution_count": 60,
   "id": "446d8168",
   "metadata": {},
   "outputs": [],
   "source": [
    "#exercise 3\n",
    "img = cv.imread(\"images/clock.jpg\")\n",
    "\n",
    "# Convert the image to grayscale\n",
    "gray = cv.cvtColor(img, cv.COLOR_BGR2GRAY)\n",
    "\n",
    "# Apply Canny edge detection\n",
    "edges = cv.Canny(gray, threshold1=50, threshold2=150) #threshold1 and threshold 2 detect potential edges)\n",
    "\n",
    "# Find contours\n",
    "contours, _ = cv.findContours(edges, cv.RETR_EXTERNAL, cv.CHAIN_APPROX_SIMPLE)\n",
    "\n",
    "# Filter contours by area and aspect ratio (to narrow down to the clock)\n",
    "clock_contours = []\n",
    "for contour in contours:\n",
    "    area = cv.contourArea(contour)\n",
    "    x, y, w, h = cv.boundingRect(contour)\n",
    "    aspect_ratio = w / float(h)\n",
    "    \n",
    "    if area > 500 and 0.8 < aspect_ratio < 1.2: #narrow down contours that likely correspond to the clock\n",
    "        clock_contours.append(contour)\n",
    "\n",
    "# Draw the green circle frame around the clock\n",
    "for contour in clock_contours:\n",
    "    (x, y), radius = cv.minEnclosingCircle(contour)\n",
    "    center = (int(x), int(y))\n",
    "    radius = int(radius)\n",
    "    cv.circle(img, center, radius, (0, 255, 0), 2)  # Draw a green circle frame\n",
    "\n",
    "# Display the image with the green circle frame\n",
    "cv.imshow('Isolated Clock', img)\n",
    "cv.waitKey(0)\n",
    "cv.destroyAllWindows()"
   ]
  },
  {
   "cell_type": "code",
   "execution_count": null,
   "id": "53c9d31e",
   "metadata": {},
   "outputs": [],
   "source": []
  }
 ],
 "metadata": {
  "kernelspec": {
   "display_name": "Python 3 (ipykernel)",
   "language": "python",
   "name": "python3"
  },
  "language_info": {
   "codemirror_mode": {
    "name": "ipython",
    "version": 3
   },
   "file_extension": ".py",
   "mimetype": "text/x-python",
   "name": "python",
   "nbconvert_exporter": "python",
   "pygments_lexer": "ipython3",
   "version": "3.10.9"
  }
 },
 "nbformat": 4,
 "nbformat_minor": 5
}
